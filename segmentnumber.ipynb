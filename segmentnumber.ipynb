{
 "cells": [
  {
   "cell_type": "code",
   "execution_count": 9,
   "metadata": {},
   "outputs": [
    {
     "data": {
      "application/vnd.jupyter.widget-view+json": {
       "model_id": "92452505a57845f7b2b95fd12e204424",
       "version_major": 2,
       "version_minor": 0
      },
      "text/plain": [
       "GraphWidget(layout=Layout(height='500px', width='100%'))"
      ]
     },
     "metadata": {},
     "output_type": "display_data"
    }
   ],
   "source": [
    "from yfiles_jupyter_graphs import GraphWidget\n",
    "\n",
    "def read_graph_from_file(file_path):\n",
    "    with open(file_path, 'r') as f:\n",
    "        n, m = map(int, f.readline().split())\n",
    "        nodes = [{'id': i, 'properties': {'label': f'Node {i}'}} for i in range(n)]\n",
    "        edges = []\n",
    "        for i in range(m):\n",
    "            start, end = map(int, f.readline().split())\n",
    "            edges.append({'id': i, 'start': start, 'end': end, 'properties': {'label': ''}})\n",
    "    return nodes, edges\n",
    "\n",
    "w = GraphWidget()\n",
    "\n",
    "nodes, edges = read_graph_from_file('graph_input.txt')\n",
    "\n",
    "w.set_nodes(nodes)\n",
    "w.set_edges(edges)\n",
    "\n",
    "w.show()\n"
   ]
  }
 ],
 "metadata": {
  "kernelspec": {
   "display_name": "base",
   "language": "python",
   "name": "python3"
  },
  "language_info": {
   "codemirror_mode": {
    "name": "ipython",
    "version": 3
   },
   "file_extension": ".py",
   "mimetype": "text/x-python",
   "name": "python",
   "nbconvert_exporter": "python",
   "pygments_lexer": "ipython3",
   "version": "3.12.4"
  }
 },
 "nbformat": 4,
 "nbformat_minor": 2
}
