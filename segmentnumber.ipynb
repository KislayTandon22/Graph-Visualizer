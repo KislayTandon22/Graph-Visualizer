{
 "cells": [
  {
   "cell_type": "code",
   "execution_count": 54,
   "metadata": {},
   "outputs": [
    {
     "data": {
      "application/vnd.plotly.v1+json": {
       "config": {
        "plotlyServerURL": "https://plot.ly"
       },
       "data": [
        {
         "hoverinfo": "none",
         "line": {
          "color": "#888",
          "width": 2
         },
         "mode": "lines",
         "type": "scatter",
         "x": [
          0.3065487298931471,
          0.14113780533089154,
          null
         ],
         "y": [
          0.4255797032501535,
          0.4345421764712267,
          null
         ]
        },
        {
         "hoverinfo": "none",
         "line": {
          "color": "#888",
          "width": 2
         },
         "mode": "lines",
         "type": "scatter",
         "x": [
          0.3065487298931471,
          0.44287408239855197,
          null
         ],
         "y": [
          0.4255797032501535,
          0.36783116149157535,
          null
         ]
        },
        {
         "hoverinfo": "none",
         "line": {
          "color": "#888",
          "width": 2
         },
         "mode": "lines",
         "type": "scatter",
         "x": [
          0.14113780533089154,
          0.0969656090457304,
          null
         ],
         "y": [
          0.4345421764712267,
          0.26093195141108116,
          null
         ]
        },
        {
         "hoverinfo": "none",
         "line": {
          "color": "#888",
          "width": 2
         },
         "mode": "lines",
         "type": "scatter",
         "x": [
          0.14113780533089154,
          0.03099145965764258,
          null
         ],
         "y": [
          0.4345421764712267,
          0.5748553499225608,
          null
         ]
        },
        {
         "hoverinfo": "none",
         "line": {
          "color": "#888",
          "width": 2
         },
         "mode": "lines",
         "type": "scatter",
         "x": [
          0.44287408239855197,
          0.4899695244910536,
          null
         ],
         "y": [
          0.36783116149157535,
          0.2510523406676787,
          null
         ]
        },
        {
         "hoverinfo": "none",
         "line": {
          "color": "#888",
          "width": 2
         },
         "mode": "lines",
         "type": "scatter",
         "x": [
          0.0969656090457304,
          0.24553291124244053,
          null
         ],
         "y": [
          0.26093195141108116,
          0.1841196314982666,
          null
         ]
        },
        {
         "hoverinfo": "none",
         "line": {
          "color": "#888",
          "width": 2
         },
         "mode": "lines",
         "type": "scatter",
         "x": [
          0.0969656090457304,
          -0.03812089773421155,
          null
         ],
         "y": [
          0.26093195141108116,
          0.24519919743309085,
          null
         ]
        },
        {
         "hoverinfo": "none",
         "line": {
          "color": "#888",
          "width": 2
         },
         "mode": "lines",
         "type": "scatter",
         "x": [
          0.0969656090457304,
          -0.003161105264898105,
          null
         ],
         "y": [
          0.26093195141108116,
          0.1635649108832894,
          null
         ]
        },
        {
         "hoverinfo": "none",
         "line": {
          "color": "#888",
          "width": 2
         },
         "mode": "lines",
         "type": "scatter",
         "x": [
          0.21365509959104198,
          0.15938082327864544,
          null
         ],
         "y": [
          -0.9290786524391308,
          -0.8297733966402348,
          null
         ]
        },
        {
         "hoverinfo": "none",
         "line": {
          "color": "#888",
          "width": 2
         },
         "mode": "lines",
         "type": "scatter",
         "x": [
          0.21365509959104198,
          0.14884369733646519,
          null
         ],
         "y": [
          -0.9290786524391308,
          -0.9999999999999999,
          null
         ]
        },
        {
         "hoverinfo": "none",
         "line": {
          "color": "#888",
          "width": 2
         },
         "mode": "lines",
         "type": "scatter",
         "x": [
          -0.8011101985173442,
          -0.8290724705315363,
          null
         ],
         "y": [
          -0.2616329807431894,
          -0.3604794512943229,
          null
         ]
        },
        {
         "hoverinfo": "none",
         "line": {
          "color": "#888",
          "width": 2
         },
         "mode": "lines",
         "type": "scatter",
         "x": [
          -0.16403799687094478,
          -0.07853967258567725,
          null
         ],
         "y": [
          0.7760296980824332,
          0.6853007565992222,
          null
         ]
        },
        {
         "hoverinfo": "none",
         "line": {
          "color": "#888",
          "width": 2
         },
         "mode": "lines",
         "type": "scatter",
         "x": [
          0.24553291124244053,
          0.39293637622598154,
          null
         ],
         "y": [
          0.1841196314982666,
          0.1707806421978289,
          null
         ]
        },
        {
         "hoverinfo": "none",
         "line": {
          "color": "#888",
          "width": 2
         },
         "mode": "lines",
         "type": "scatter",
         "x": [
          -0.03812089773421155,
          -0.10850243678984693,
          null
         ],
         "y": [
          0.24519919743309085,
          0.16671509492167275,
          null
         ]
        },
        {
         "hoverinfo": "none",
         "line": {
          "color": "#888",
          "width": 2
         },
         "mode": "lines",
         "type": "scatter",
         "x": [
          0.15938082327864544,
          0.09782724722871264,
          null
         ],
         "y": [
          -0.8297733966402348,
          -0.9086129807675586,
          null
         ]
        },
        {
         "hoverinfo": "none",
         "line": {
          "color": "#888",
          "width": 2
         },
         "mode": "lines",
         "type": "scatter",
         "x": [
          -0.8290724705315363,
          -0.7441185874258461,
          null
         ],
         "y": [
          -0.3604794512943229,
          -0.41692515294564275,
          null
         ]
        },
        {
         "hoverinfo": "none",
         "line": {
          "color": "#888",
          "width": 2
         },
         "mode": "lines",
         "type": "scatter",
         "x": [
          -0.07853967258567725,
          0.03099145965764258,
          null
         ],
         "y": [
          0.6853007565992222,
          0.5748553499225608,
          null
         ]
        },
        {
         "hoverinfo": "none",
         "line": {
          "color": "#888",
          "width": 2
         },
         "mode": "lines",
         "type": "scatter",
         "x": [
          0.39293637622598154,
          0.4899695244910536,
          null
         ],
         "y": [
          0.1707806421978289,
          0.2510523406676787,
          null
         ]
        },
        {
         "hoverinfo": "none",
         "line": {
          "color": "#888",
          "width": 2
         },
         "mode": "lines",
         "type": "scatter",
         "x": [
          -0.10850243678984693,
          -0.003161105264898105,
          null
         ],
         "y": [
          0.16671509492167275,
          0.1635649108832894,
          null
         ]
        },
        {
         "hoverinfo": "none",
         "line": {
          "color": "#888",
          "width": 2
         },
         "mode": "lines",
         "type": "scatter",
         "x": [
          0.09782724722871264,
          0.14884369733646519,
          null
         ],
         "y": [
          -0.9086129807675586,
          -0.9999999999999999,
          null
         ]
        },
        {
         "hoverinfo": "text",
         "marker": {
          "color": "lightblue",
          "line": {
           "width": 2
          },
          "size": 20
         },
         "mode": "markers+text",
         "text": [
          "0"
         ],
         "textposition": "middle center",
         "type": "scatter",
         "x": [
          0.3065487298931471
         ],
         "y": [
          0.4255797032501535
         ]
        },
        {
         "hoverinfo": "text",
         "marker": {
          "color": "lightblue",
          "line": {
           "width": 2
          },
          "size": 20
         },
         "mode": "markers+text",
         "text": [
          "1"
         ],
         "textposition": "middle center",
         "type": "scatter",
         "x": [
          0.14113780533089154
         ],
         "y": [
          0.4345421764712267
         ]
        },
        {
         "hoverinfo": "text",
         "marker": {
          "color": "lightblue",
          "line": {
           "width": 2
          },
          "size": 20
         },
         "mode": "markers+text",
         "text": [
          "2"
         ],
         "textposition": "middle center",
         "type": "scatter",
         "x": [
          0.44287408239855197
         ],
         "y": [
          0.36783116149157535
         ]
        },
        {
         "hoverinfo": "text",
         "marker": {
          "color": "lightblue",
          "line": {
           "width": 2
          },
          "size": 20
         },
         "mode": "markers+text",
         "text": [
          "3"
         ],
         "textposition": "middle center",
         "type": "scatter",
         "x": [
          0.0969656090457304
         ],
         "y": [
          0.26093195141108116
         ]
        },
        {
         "hoverinfo": "text",
         "marker": {
          "color": "lightblue",
          "line": {
           "width": 2
          },
          "size": 20
         },
         "mode": "markers+text",
         "text": [
          "4"
         ],
         "textposition": "middle center",
         "type": "scatter",
         "x": [
          0.21365509959104198
         ],
         "y": [
          -0.9290786524391308
         ]
        },
        {
         "hoverinfo": "text",
         "marker": {
          "color": "lightblue",
          "line": {
           "width": 2
          },
          "size": 20
         },
         "mode": "markers+text",
         "text": [
          "5"
         ],
         "textposition": "middle center",
         "type": "scatter",
         "x": [
          -0.8011101985173442
         ],
         "y": [
          -0.2616329807431894
         ]
        },
        {
         "hoverinfo": "text",
         "marker": {
          "color": "lightblue",
          "line": {
           "width": 2
          },
          "size": 20
         },
         "mode": "markers+text",
         "text": [
          "6"
         ],
         "textposition": "middle center",
         "type": "scatter",
         "x": [
          -0.16403799687094478
         ],
         "y": [
          0.7760296980824332
         ]
        },
        {
         "hoverinfo": "text",
         "marker": {
          "color": "lightblue",
          "line": {
           "width": 2
          },
          "size": 20
         },
         "mode": "markers+text",
         "text": [
          "7"
         ],
         "textposition": "middle center",
         "type": "scatter",
         "x": [
          0.24553291124244053
         ],
         "y": [
          0.1841196314982666
         ]
        },
        {
         "hoverinfo": "text",
         "marker": {
          "color": "lightblue",
          "line": {
           "width": 2
          },
          "size": 20
         },
         "mode": "markers+text",
         "text": [
          "8"
         ],
         "textposition": "middle center",
         "type": "scatter",
         "x": [
          -0.03812089773421155
         ],
         "y": [
          0.24519919743309085
         ]
        },
        {
         "hoverinfo": "text",
         "marker": {
          "color": "lightblue",
          "line": {
           "width": 2
          },
          "size": 20
         },
         "mode": "markers+text",
         "text": [
          "9"
         ],
         "textposition": "middle center",
         "type": "scatter",
         "x": [
          0.15938082327864544
         ],
         "y": [
          -0.8297733966402348
         ]
        },
        {
         "hoverinfo": "text",
         "marker": {
          "color": "lightblue",
          "line": {
           "width": 2
          },
          "size": 20
         },
         "mode": "markers+text",
         "text": [
          "10"
         ],
         "textposition": "middle center",
         "type": "scatter",
         "x": [
          -0.8290724705315363
         ],
         "y": [
          -0.3604794512943229
         ]
        },
        {
         "hoverinfo": "text",
         "marker": {
          "color": "lightblue",
          "line": {
           "width": 2
          },
          "size": 20
         },
         "mode": "markers+text",
         "text": [
          "11"
         ],
         "textposition": "middle center",
         "type": "scatter",
         "x": [
          -0.07853967258567725
         ],
         "y": [
          0.6853007565992222
         ]
        },
        {
         "hoverinfo": "text",
         "marker": {
          "color": "lightblue",
          "line": {
           "width": 2
          },
          "size": 20
         },
         "mode": "markers+text",
         "text": [
          "12"
         ],
         "textposition": "middle center",
         "type": "scatter",
         "x": [
          0.39293637622598154
         ],
         "y": [
          0.1707806421978289
         ]
        },
        {
         "hoverinfo": "text",
         "marker": {
          "color": "lightblue",
          "line": {
           "width": 2
          },
          "size": 20
         },
         "mode": "markers+text",
         "text": [
          "13"
         ],
         "textposition": "middle center",
         "type": "scatter",
         "x": [
          -0.10850243678984693
         ],
         "y": [
          0.16671509492167275
         ]
        },
        {
         "hoverinfo": "text",
         "marker": {
          "color": "lightblue",
          "line": {
           "width": 2
          },
          "size": 20
         },
         "mode": "markers+text",
         "text": [
          "14"
         ],
         "textposition": "middle center",
         "type": "scatter",
         "x": [
          0.09782724722871264
         ],
         "y": [
          -0.9086129807675586
         ]
        },
        {
         "hoverinfo": "text",
         "marker": {
          "color": "lightblue",
          "line": {
           "width": 2
          },
          "size": 20
         },
         "mode": "markers+text",
         "text": [
          "15"
         ],
         "textposition": "middle center",
         "type": "scatter",
         "x": [
          -0.7441185874258461
         ],
         "y": [
          -0.41692515294564275
         ]
        },
        {
         "hoverinfo": "text",
         "marker": {
          "color": "lightblue",
          "line": {
           "width": 2
          },
          "size": 20
         },
         "mode": "markers+text",
         "text": [
          "16"
         ],
         "textposition": "middle center",
         "type": "scatter",
         "x": [
          0.03099145965764258
         ],
         "y": [
          0.5748553499225608
         ]
        },
        {
         "hoverinfo": "text",
         "marker": {
          "color": "lightblue",
          "line": {
           "width": 2
          },
          "size": 20
         },
         "mode": "markers+text",
         "text": [
          "17"
         ],
         "textposition": "middle center",
         "type": "scatter",
         "x": [
          0.4899695244910536
         ],
         "y": [
          0.2510523406676787
         ]
        },
        {
         "hoverinfo": "text",
         "marker": {
          "color": "lightblue",
          "line": {
           "width": 2
          },
          "size": 20
         },
         "mode": "markers+text",
         "text": [
          "18"
         ],
         "textposition": "middle center",
         "type": "scatter",
         "x": [
          -0.003161105264898105
         ],
         "y": [
          0.1635649108832894
         ]
        },
        {
         "hoverinfo": "text",
         "marker": {
          "color": "lightblue",
          "line": {
           "width": 2
          },
          "size": 20
         },
         "mode": "markers+text",
         "text": [
          "19"
         ],
         "textposition": "middle center",
         "type": "scatter",
         "x": [
          0.14884369733646519
         ],
         "y": [
          -0.9999999999999999
         ]
        }
       ],
       "layout": {
        "hovermode": "closest",
        "margin": {
         "b": 0,
         "l": 0,
         "r": 0,
         "t": 40
        },
        "showlegend": false,
        "template": {
         "data": {
          "bar": [
           {
            "error_x": {
             "color": "#2a3f5f"
            },
            "error_y": {
             "color": "#2a3f5f"
            },
            "marker": {
             "line": {
              "color": "#E5ECF6",
              "width": 0.5
             },
             "pattern": {
              "fillmode": "overlay",
              "size": 10,
              "solidity": 0.2
             }
            },
            "type": "bar"
           }
          ],
          "barpolar": [
           {
            "marker": {
             "line": {
              "color": "#E5ECF6",
              "width": 0.5
             },
             "pattern": {
              "fillmode": "overlay",
              "size": 10,
              "solidity": 0.2
             }
            },
            "type": "barpolar"
           }
          ],
          "carpet": [
           {
            "aaxis": {
             "endlinecolor": "#2a3f5f",
             "gridcolor": "white",
             "linecolor": "white",
             "minorgridcolor": "white",
             "startlinecolor": "#2a3f5f"
            },
            "baxis": {
             "endlinecolor": "#2a3f5f",
             "gridcolor": "white",
             "linecolor": "white",
             "minorgridcolor": "white",
             "startlinecolor": "#2a3f5f"
            },
            "type": "carpet"
           }
          ],
          "choropleth": [
           {
            "colorbar": {
             "outlinewidth": 0,
             "ticks": ""
            },
            "type": "choropleth"
           }
          ],
          "contour": [
           {
            "colorbar": {
             "outlinewidth": 0,
             "ticks": ""
            },
            "colorscale": [
             [
              0,
              "#0d0887"
             ],
             [
              0.1111111111111111,
              "#46039f"
             ],
             [
              0.2222222222222222,
              "#7201a8"
             ],
             [
              0.3333333333333333,
              "#9c179e"
             ],
             [
              0.4444444444444444,
              "#bd3786"
             ],
             [
              0.5555555555555556,
              "#d8576b"
             ],
             [
              0.6666666666666666,
              "#ed7953"
             ],
             [
              0.7777777777777778,
              "#fb9f3a"
             ],
             [
              0.8888888888888888,
              "#fdca26"
             ],
             [
              1,
              "#f0f921"
             ]
            ],
            "type": "contour"
           }
          ],
          "contourcarpet": [
           {
            "colorbar": {
             "outlinewidth": 0,
             "ticks": ""
            },
            "type": "contourcarpet"
           }
          ],
          "heatmap": [
           {
            "colorbar": {
             "outlinewidth": 0,
             "ticks": ""
            },
            "colorscale": [
             [
              0,
              "#0d0887"
             ],
             [
              0.1111111111111111,
              "#46039f"
             ],
             [
              0.2222222222222222,
              "#7201a8"
             ],
             [
              0.3333333333333333,
              "#9c179e"
             ],
             [
              0.4444444444444444,
              "#bd3786"
             ],
             [
              0.5555555555555556,
              "#d8576b"
             ],
             [
              0.6666666666666666,
              "#ed7953"
             ],
             [
              0.7777777777777778,
              "#fb9f3a"
             ],
             [
              0.8888888888888888,
              "#fdca26"
             ],
             [
              1,
              "#f0f921"
             ]
            ],
            "type": "heatmap"
           }
          ],
          "heatmapgl": [
           {
            "colorbar": {
             "outlinewidth": 0,
             "ticks": ""
            },
            "colorscale": [
             [
              0,
              "#0d0887"
             ],
             [
              0.1111111111111111,
              "#46039f"
             ],
             [
              0.2222222222222222,
              "#7201a8"
             ],
             [
              0.3333333333333333,
              "#9c179e"
             ],
             [
              0.4444444444444444,
              "#bd3786"
             ],
             [
              0.5555555555555556,
              "#d8576b"
             ],
             [
              0.6666666666666666,
              "#ed7953"
             ],
             [
              0.7777777777777778,
              "#fb9f3a"
             ],
             [
              0.8888888888888888,
              "#fdca26"
             ],
             [
              1,
              "#f0f921"
             ]
            ],
            "type": "heatmapgl"
           }
          ],
          "histogram": [
           {
            "marker": {
             "pattern": {
              "fillmode": "overlay",
              "size": 10,
              "solidity": 0.2
             }
            },
            "type": "histogram"
           }
          ],
          "histogram2d": [
           {
            "colorbar": {
             "outlinewidth": 0,
             "ticks": ""
            },
            "colorscale": [
             [
              0,
              "#0d0887"
             ],
             [
              0.1111111111111111,
              "#46039f"
             ],
             [
              0.2222222222222222,
              "#7201a8"
             ],
             [
              0.3333333333333333,
              "#9c179e"
             ],
             [
              0.4444444444444444,
              "#bd3786"
             ],
             [
              0.5555555555555556,
              "#d8576b"
             ],
             [
              0.6666666666666666,
              "#ed7953"
             ],
             [
              0.7777777777777778,
              "#fb9f3a"
             ],
             [
              0.8888888888888888,
              "#fdca26"
             ],
             [
              1,
              "#f0f921"
             ]
            ],
            "type": "histogram2d"
           }
          ],
          "histogram2dcontour": [
           {
            "colorbar": {
             "outlinewidth": 0,
             "ticks": ""
            },
            "colorscale": [
             [
              0,
              "#0d0887"
             ],
             [
              0.1111111111111111,
              "#46039f"
             ],
             [
              0.2222222222222222,
              "#7201a8"
             ],
             [
              0.3333333333333333,
              "#9c179e"
             ],
             [
              0.4444444444444444,
              "#bd3786"
             ],
             [
              0.5555555555555556,
              "#d8576b"
             ],
             [
              0.6666666666666666,
              "#ed7953"
             ],
             [
              0.7777777777777778,
              "#fb9f3a"
             ],
             [
              0.8888888888888888,
              "#fdca26"
             ],
             [
              1,
              "#f0f921"
             ]
            ],
            "type": "histogram2dcontour"
           }
          ],
          "mesh3d": [
           {
            "colorbar": {
             "outlinewidth": 0,
             "ticks": ""
            },
            "type": "mesh3d"
           }
          ],
          "parcoords": [
           {
            "line": {
             "colorbar": {
              "outlinewidth": 0,
              "ticks": ""
             }
            },
            "type": "parcoords"
           }
          ],
          "pie": [
           {
            "automargin": true,
            "type": "pie"
           }
          ],
          "scatter": [
           {
            "fillpattern": {
             "fillmode": "overlay",
             "size": 10,
             "solidity": 0.2
            },
            "type": "scatter"
           }
          ],
          "scatter3d": [
           {
            "line": {
             "colorbar": {
              "outlinewidth": 0,
              "ticks": ""
             }
            },
            "marker": {
             "colorbar": {
              "outlinewidth": 0,
              "ticks": ""
             }
            },
            "type": "scatter3d"
           }
          ],
          "scattercarpet": [
           {
            "marker": {
             "colorbar": {
              "outlinewidth": 0,
              "ticks": ""
             }
            },
            "type": "scattercarpet"
           }
          ],
          "scattergeo": [
           {
            "marker": {
             "colorbar": {
              "outlinewidth": 0,
              "ticks": ""
             }
            },
            "type": "scattergeo"
           }
          ],
          "scattergl": [
           {
            "marker": {
             "colorbar": {
              "outlinewidth": 0,
              "ticks": ""
             }
            },
            "type": "scattergl"
           }
          ],
          "scattermapbox": [
           {
            "marker": {
             "colorbar": {
              "outlinewidth": 0,
              "ticks": ""
             }
            },
            "type": "scattermapbox"
           }
          ],
          "scatterpolar": [
           {
            "marker": {
             "colorbar": {
              "outlinewidth": 0,
              "ticks": ""
             }
            },
            "type": "scatterpolar"
           }
          ],
          "scatterpolargl": [
           {
            "marker": {
             "colorbar": {
              "outlinewidth": 0,
              "ticks": ""
             }
            },
            "type": "scatterpolargl"
           }
          ],
          "scatterternary": [
           {
            "marker": {
             "colorbar": {
              "outlinewidth": 0,
              "ticks": ""
             }
            },
            "type": "scatterternary"
           }
          ],
          "surface": [
           {
            "colorbar": {
             "outlinewidth": 0,
             "ticks": ""
            },
            "colorscale": [
             [
              0,
              "#0d0887"
             ],
             [
              0.1111111111111111,
              "#46039f"
             ],
             [
              0.2222222222222222,
              "#7201a8"
             ],
             [
              0.3333333333333333,
              "#9c179e"
             ],
             [
              0.4444444444444444,
              "#bd3786"
             ],
             [
              0.5555555555555556,
              "#d8576b"
             ],
             [
              0.6666666666666666,
              "#ed7953"
             ],
             [
              0.7777777777777778,
              "#fb9f3a"
             ],
             [
              0.8888888888888888,
              "#fdca26"
             ],
             [
              1,
              "#f0f921"
             ]
            ],
            "type": "surface"
           }
          ],
          "table": [
           {
            "cells": {
             "fill": {
              "color": "#EBF0F8"
             },
             "line": {
              "color": "white"
             }
            },
            "header": {
             "fill": {
              "color": "#C8D4E3"
             },
             "line": {
              "color": "white"
             }
            },
            "type": "table"
           }
          ]
         },
         "layout": {
          "annotationdefaults": {
           "arrowcolor": "#2a3f5f",
           "arrowhead": 0,
           "arrowwidth": 1
          },
          "autotypenumbers": "strict",
          "coloraxis": {
           "colorbar": {
            "outlinewidth": 0,
            "ticks": ""
           }
          },
          "colorscale": {
           "diverging": [
            [
             0,
             "#8e0152"
            ],
            [
             0.1,
             "#c51b7d"
            ],
            [
             0.2,
             "#de77ae"
            ],
            [
             0.3,
             "#f1b6da"
            ],
            [
             0.4,
             "#fde0ef"
            ],
            [
             0.5,
             "#f7f7f7"
            ],
            [
             0.6,
             "#e6f5d0"
            ],
            [
             0.7,
             "#b8e186"
            ],
            [
             0.8,
             "#7fbc41"
            ],
            [
             0.9,
             "#4d9221"
            ],
            [
             1,
             "#276419"
            ]
           ],
           "sequential": [
            [
             0,
             "#0d0887"
            ],
            [
             0.1111111111111111,
             "#46039f"
            ],
            [
             0.2222222222222222,
             "#7201a8"
            ],
            [
             0.3333333333333333,
             "#9c179e"
            ],
            [
             0.4444444444444444,
             "#bd3786"
            ],
            [
             0.5555555555555556,
             "#d8576b"
            ],
            [
             0.6666666666666666,
             "#ed7953"
            ],
            [
             0.7777777777777778,
             "#fb9f3a"
            ],
            [
             0.8888888888888888,
             "#fdca26"
            ],
            [
             1,
             "#f0f921"
            ]
           ],
           "sequentialminus": [
            [
             0,
             "#0d0887"
            ],
            [
             0.1111111111111111,
             "#46039f"
            ],
            [
             0.2222222222222222,
             "#7201a8"
            ],
            [
             0.3333333333333333,
             "#9c179e"
            ],
            [
             0.4444444444444444,
             "#bd3786"
            ],
            [
             0.5555555555555556,
             "#d8576b"
            ],
            [
             0.6666666666666666,
             "#ed7953"
            ],
            [
             0.7777777777777778,
             "#fb9f3a"
            ],
            [
             0.8888888888888888,
             "#fdca26"
            ],
            [
             1,
             "#f0f921"
            ]
           ]
          },
          "colorway": [
           "#636efa",
           "#EF553B",
           "#00cc96",
           "#ab63fa",
           "#FFA15A",
           "#19d3f3",
           "#FF6692",
           "#B6E880",
           "#FF97FF",
           "#FECB52"
          ],
          "font": {
           "color": "#2a3f5f"
          },
          "geo": {
           "bgcolor": "white",
           "lakecolor": "white",
           "landcolor": "#E5ECF6",
           "showlakes": true,
           "showland": true,
           "subunitcolor": "white"
          },
          "hoverlabel": {
           "align": "left"
          },
          "hovermode": "closest",
          "mapbox": {
           "style": "light"
          },
          "paper_bgcolor": "white",
          "plot_bgcolor": "#E5ECF6",
          "polar": {
           "angularaxis": {
            "gridcolor": "white",
            "linecolor": "white",
            "ticks": ""
           },
           "bgcolor": "#E5ECF6",
           "radialaxis": {
            "gridcolor": "white",
            "linecolor": "white",
            "ticks": ""
           }
          },
          "scene": {
           "xaxis": {
            "backgroundcolor": "#E5ECF6",
            "gridcolor": "white",
            "gridwidth": 2,
            "linecolor": "white",
            "showbackground": true,
            "ticks": "",
            "zerolinecolor": "white"
           },
           "yaxis": {
            "backgroundcolor": "#E5ECF6",
            "gridcolor": "white",
            "gridwidth": 2,
            "linecolor": "white",
            "showbackground": true,
            "ticks": "",
            "zerolinecolor": "white"
           },
           "zaxis": {
            "backgroundcolor": "#E5ECF6",
            "gridcolor": "white",
            "gridwidth": 2,
            "linecolor": "white",
            "showbackground": true,
            "ticks": "",
            "zerolinecolor": "white"
           }
          },
          "shapedefaults": {
           "line": {
            "color": "#2a3f5f"
           }
          },
          "ternary": {
           "aaxis": {
            "gridcolor": "white",
            "linecolor": "white",
            "ticks": ""
           },
           "baxis": {
            "gridcolor": "white",
            "linecolor": "white",
            "ticks": ""
           },
           "bgcolor": "#E5ECF6",
           "caxis": {
            "gridcolor": "white",
            "linecolor": "white",
            "ticks": ""
           }
          },
          "title": {
           "x": 0.05
          },
          "xaxis": {
           "automargin": true,
           "gridcolor": "white",
           "linecolor": "white",
           "ticks": "",
           "title": {
            "standoff": 15
           },
           "zerolinecolor": "white",
           "zerolinewidth": 2
          },
          "yaxis": {
           "automargin": true,
           "gridcolor": "white",
           "linecolor": "white",
           "ticks": "",
           "title": {
            "standoff": 15
           },
           "zerolinecolor": "white",
           "zerolinewidth": 2
          }
         }
        },
        "title": {
         "font": {
          "size": 16
         },
         "text": "<br>Interactive Graph Visualization"
        },
        "xaxis": {
         "showgrid": false,
         "zeroline": false
        },
        "yaxis": {
         "showgrid": false,
         "zeroline": false
        }
       }
      }
     },
     "metadata": {},
     "output_type": "display_data"
    }
   ],
   "source": [
    "import networkx as nx\n",
    "import plotly.graph_objs as go\n",
    "\n",
    "def read_graph_from_file(file_path):\n",
    "    with open(file_path, 'r') as f:\n",
    "        n, m = map(int, f.readline().strip().split())  # Use strip() to remove any leading/trailing whitespace\n",
    "        G = nx.Graph()\n",
    "        \n",
    "        for i in range(n):\n",
    "            G.add_node(i, label=f'Node {i}')\n",
    "        \n",
    "        edge_count = 0  # Keep track of edges added\n",
    "        for line in f:\n",
    "            if line.strip():  # Check if the line is not empty\n",
    "                start, end = map(int, line.strip().split())\n",
    "                G.add_edge(start, end)\n",
    "                edge_count += 1\n",
    "                if edge_count >= m:  # Stop if we've read the expected number of edges\n",
    "                    break\n",
    "    \n",
    "    return G\n",
    "\n",
    "def create_plotly_graph(G):\n",
    "    pos = nx.spring_layout(G)\n",
    "    edge_trace = []\n",
    "    node_trace = []\n",
    "\n",
    "    for edge in G.edges():\n",
    "        x0, y0 = pos[edge[0]]\n",
    "        x1, y1 = pos[edge[1]]\n",
    "        edge_trace.append(go.Scatter(\n",
    "            x=[x0, x1, None], \n",
    "            y=[y0, y1, None],\n",
    "            line=dict(width=2, color='#888'),\n",
    "            hoverinfo='none',\n",
    "            mode='lines'))\n",
    "\n",
    "    for node in G.nodes():\n",
    "        x, y = pos[node]\n",
    "        node_trace.append(go.Scatter(\n",
    "            x=[x],\n",
    "            y=[y],\n",
    "            text=[str(node)],  # Node number inside the node\n",
    "            mode='markers+text',\n",
    "            hoverinfo='text',\n",
    "            textposition='middle center',  # Center the node label\n",
    "            marker=dict(\n",
    "                size=20,\n",
    "                color='lightblue',\n",
    "                line_width=2)))\n",
    "\n",
    "    fig = go.Figure(data=edge_trace + node_trace,\n",
    "                    layout=go.Layout(\n",
    "                        title='<br>Interactive Graph Visualization',\n",
    "                        titlefont_size=16,\n",
    "                        showlegend=False,\n",
    "                        hovermode='closest', \n",
    "                        margin=dict(b=0, l=0, r=0, t=40),\n",
    "                        xaxis=dict(showgrid=False, zeroline=False),\n",
    "                        yaxis=dict(showgrid=False, zeroline=False)))\n",
    "    \n",
    "    fig.show()\n",
    "\n",
    "# Example usage\n",
    "G = read_graph_from_file('graph_input.txt')\n",
    "create_plotly_graph(G)\n"
   ]
  },
  {
   "cell_type": "code",
   "execution_count": 55,
   "metadata": {},
   "outputs": [
    {
     "data": {
      "application/vnd.plotly.v1+json": {
       "config": {
        "plotlyServerURL": "https://plot.ly"
       },
       "data": [
        {
         "hoverinfo": "none",
         "line": {
          "color": "#888",
          "width": 2
         },
         "mode": "lines",
         "type": "scatter",
         "x": [
          -0.3969291344617719,
          -0.27026482808041624,
          null
         ],
         "y": [
          -0.14430920229257455,
          -0.2621528064502566,
          null
         ]
        },
        {
         "hoverinfo": "none",
         "line": {
          "color": "#888",
          "width": 2
         },
         "mode": "lines",
         "type": "scatter",
         "x": [
          -0.3969291344617719,
          -0.46629141022152265,
          null
         ],
         "y": [
          -0.14430920229257455,
          -0.02341117843344716,
          null
         ]
        },
        {
         "hoverinfo": "none",
         "line": {
          "color": "#888",
          "width": 2
         },
         "mode": "lines",
         "type": "scatter",
         "x": [
          -0.27026482808041624,
          -0.3690383058784815,
          null
         ],
         "y": [
          -0.2621528064502566,
          -0.34631568455522815,
          null
         ]
        },
        {
         "hoverinfo": "none",
         "line": {
          "color": "#888",
          "width": 2
         },
         "mode": "lines",
         "type": "scatter",
         "x": [
          -0.27026482808041624,
          -0.10508274704774863,
          null
         ],
         "y": [
          -0.2621528064502566,
          -0.30465739415570686,
          null
         ]
        },
        {
         "hoverinfo": "none",
         "line": {
          "color": "#888",
          "width": 2
         },
         "mode": "lines",
         "type": "scatter",
         "x": [
          -0.46629141022152265,
          -0.40888688971897175,
          null
         ],
         "y": [
          -0.02341117843344716,
          0.06145035025444637,
          null
         ]
        },
        {
         "hoverinfo": "none",
         "line": {
          "color": "#888",
          "width": 2
         },
         "mode": "lines",
         "type": "scatter",
         "x": [
          -0.3690383058784815,
          -0.32505269249771035,
          null
         ],
         "y": [
          -0.34631568455522815,
          -0.17859876869078972,
          null
         ]
        },
        {
         "hoverinfo": "none",
         "line": {
          "color": "#888",
          "width": 2
         },
         "mode": "lines",
         "type": "scatter",
         "x": [
          -0.3690383058784815,
          -0.3863825121371878,
          null
         ],
         "y": [
          -0.34631568455522815,
          -0.4857631927188466,
          null
         ]
        },
        {
         "hoverinfo": "none",
         "line": {
          "color": "#888",
          "width": 2
         },
         "mode": "lines",
         "type": "scatter",
         "x": [
          -0.3690383058784815,
          -0.4624434394895313,
          null
         ],
         "y": [
          -0.34631568455522815,
          -0.45378175930700104,
          null
         ]
        },
        {
         "hoverinfo": "none",
         "line": {
          "color": "#888",
          "width": 2
         },
         "mode": "lines",
         "type": "scatter",
         "x": [
          0.23548807907193323,
          0.290581121816168,
          null
         ],
         "y": [
          0.8873261016746234,
          0.866805596415676,
          null
         ]
        },
        {
         "hoverinfo": "none",
         "line": {
          "color": "#888",
          "width": 2
         },
         "mode": "lines",
         "type": "scatter",
         "x": [
          0.23548807907193323,
          0.20192815588374008,
          null
         ],
         "y": [
          0.8873261016746234,
          0.7963645547679724,
          null
         ]
        },
        {
         "hoverinfo": "none",
         "line": {
          "color": "#888",
          "width": 2
         },
         "mode": "lines",
         "type": "scatter",
         "x": [
          0.9182832014464879,
          0.9822001752109113,
          null
         ],
         "y": [
          -0.05661918662918672,
          0.013936976526165218,
          null
         ]
        },
        {
         "hoverinfo": "none",
         "line": {
          "color": "#888",
          "width": 2
         },
         "mode": "lines",
         "type": "scatter",
         "x": [
          0.1430537652266265,
          0.03541270583615828,
          null
         ],
         "y": [
          -0.3947025491006472,
          -0.3486777807189142,
          null
         ]
        },
        {
         "hoverinfo": "none",
         "line": {
          "color": "#888",
          "width": 2
         },
         "mode": "lines",
         "type": "scatter",
         "x": [
          -0.32505269249771035,
          -0.33527179245122585,
          null
         ],
         "y": [
          -0.17859876869078972,
          -0.0284270877104422,
          null
         ]
        },
        {
         "hoverinfo": "none",
         "line": {
          "color": "#888",
          "width": 2
         },
         "mode": "lines",
         "type": "scatter",
         "x": [
          -0.3863825121371878,
          -0.4582549616532089,
          null
         ],
         "y": [
          -0.4857631927188466,
          -0.5578389918453487,
          null
         ]
        },
        {
         "hoverinfo": "none",
         "line": {
          "color": "#888",
          "width": 2
         },
         "mode": "lines",
         "type": "scatter",
         "x": [
          0.290581121816168,
          0.17695150914575133,
          null
         ],
         "y": [
          0.866805596415676,
          0.8554176153851435,
          null
         ]
        },
        {
         "hoverinfo": "none",
         "line": {
          "color": "#888",
          "width": 2
         },
         "mode": "lines",
         "type": "scatter",
         "x": [
          0.9822001752109113,
          1,
          null
         ],
         "y": [
          0.013936976526165218,
          0.10395438758436282,
          null
         ]
        },
        {
         "hoverinfo": "none",
         "line": {
          "color": "#888",
          "width": 2
         },
         "mode": "lines",
         "type": "scatter",
         "x": [
          0.03541270583615828,
          -0.10508274704774863,
          null
         ],
         "y": [
          -0.3486777807189142,
          -0.30465739415570686,
          null
         ]
        },
        {
         "hoverinfo": "none",
         "line": {
          "color": "#888",
          "width": 2
         },
         "mode": "lines",
         "type": "scatter",
         "x": [
          -0.33527179245122585,
          -0.40888688971897175,
          null
         ],
         "y": [
          -0.0284270877104422,
          0.06145035025444637,
          null
         ]
        },
        {
         "hoverinfo": "none",
         "line": {
          "color": "#888",
          "width": 2
         },
         "mode": "lines",
         "type": "scatter",
         "x": [
          -0.4582549616532089,
          -0.4624434394895313,
          null
         ],
         "y": [
          -0.5578389918453487,
          -0.45378175930700104,
          null
         ]
        },
        {
         "hoverinfo": "none",
         "line": {
          "color": "#888",
          "width": 2
         },
         "mode": "lines",
         "type": "scatter",
         "x": [
          0.17695150914575133,
          0.20192815588374008,
          null
         ],
         "y": [
          0.8554176153851435,
          0.7963645547679724,
          null
         ]
        },
        {
         "hoverinfo": "text",
         "marker": {
          "color": "#1f77b4",
          "line": {
           "width": 2
          },
          "size": 20
         },
         "mode": "markers+text",
         "text": [
          "0"
         ],
         "textfont": {
          "color": "white"
         },
         "textposition": "middle center",
         "type": "scatter",
         "x": [
          -0.3969291344617719
         ],
         "y": [
          -0.14430920229257455
         ]
        },
        {
         "hoverinfo": "text",
         "marker": {
          "color": "#1f77b4",
          "line": {
           "width": 2
          },
          "size": 20
         },
         "mode": "markers+text",
         "text": [
          "1"
         ],
         "textfont": {
          "color": "white"
         },
         "textposition": "middle center",
         "type": "scatter",
         "x": [
          -0.27026482808041624
         ],
         "y": [
          -0.2621528064502566
         ]
        },
        {
         "hoverinfo": "text",
         "marker": {
          "color": "#1f77b4",
          "line": {
           "width": 2
          },
          "size": 20
         },
         "mode": "markers+text",
         "text": [
          "2"
         ],
         "textfont": {
          "color": "white"
         },
         "textposition": "middle center",
         "type": "scatter",
         "x": [
          -0.46629141022152265
         ],
         "y": [
          -0.02341117843344716
         ]
        },
        {
         "hoverinfo": "text",
         "marker": {
          "color": "#1f77b4",
          "line": {
           "width": 2
          },
          "size": 20
         },
         "mode": "markers+text",
         "text": [
          "3"
         ],
         "textfont": {
          "color": "white"
         },
         "textposition": "middle center",
         "type": "scatter",
         "x": [
          -0.3690383058784815
         ],
         "y": [
          -0.34631568455522815
         ]
        },
        {
         "hoverinfo": "text",
         "marker": {
          "color": "#ff7f0e",
          "line": {
           "width": 2
          },
          "size": 20
         },
         "mode": "markers+text",
         "text": [
          "4"
         ],
         "textfont": {
          "color": "white"
         },
         "textposition": "middle center",
         "type": "scatter",
         "x": [
          0.23548807907193323
         ],
         "y": [
          0.8873261016746234
         ]
        },
        {
         "hoverinfo": "text",
         "marker": {
          "color": "#2ca02c",
          "line": {
           "width": 2
          },
          "size": 20
         },
         "mode": "markers+text",
         "text": [
          "5"
         ],
         "textfont": {
          "color": "white"
         },
         "textposition": "middle center",
         "type": "scatter",
         "x": [
          0.9182832014464879
         ],
         "y": [
          -0.05661918662918672
         ]
        },
        {
         "hoverinfo": "text",
         "marker": {
          "color": "#1f77b4",
          "line": {
           "width": 2
          },
          "size": 20
         },
         "mode": "markers+text",
         "text": [
          "6"
         ],
         "textfont": {
          "color": "white"
         },
         "textposition": "middle center",
         "type": "scatter",
         "x": [
          0.1430537652266265
         ],
         "y": [
          -0.3947025491006472
         ]
        },
        {
         "hoverinfo": "text",
         "marker": {
          "color": "#1f77b4",
          "line": {
           "width": 2
          },
          "size": 20
         },
         "mode": "markers+text",
         "text": [
          "7"
         ],
         "textfont": {
          "color": "white"
         },
         "textposition": "middle center",
         "type": "scatter",
         "x": [
          -0.32505269249771035
         ],
         "y": [
          -0.17859876869078972
         ]
        },
        {
         "hoverinfo": "text",
         "marker": {
          "color": "#1f77b4",
          "line": {
           "width": 2
          },
          "size": 20
         },
         "mode": "markers+text",
         "text": [
          "8"
         ],
         "textfont": {
          "color": "white"
         },
         "textposition": "middle center",
         "type": "scatter",
         "x": [
          -0.3863825121371878
         ],
         "y": [
          -0.4857631927188466
         ]
        },
        {
         "hoverinfo": "text",
         "marker": {
          "color": "#ff7f0e",
          "line": {
           "width": 2
          },
          "size": 20
         },
         "mode": "markers+text",
         "text": [
          "9"
         ],
         "textfont": {
          "color": "white"
         },
         "textposition": "middle center",
         "type": "scatter",
         "x": [
          0.290581121816168
         ],
         "y": [
          0.866805596415676
         ]
        },
        {
         "hoverinfo": "text",
         "marker": {
          "color": "#2ca02c",
          "line": {
           "width": 2
          },
          "size": 20
         },
         "mode": "markers+text",
         "text": [
          "10"
         ],
         "textfont": {
          "color": "white"
         },
         "textposition": "middle center",
         "type": "scatter",
         "x": [
          0.9822001752109113
         ],
         "y": [
          0.013936976526165218
         ]
        },
        {
         "hoverinfo": "text",
         "marker": {
          "color": "#1f77b4",
          "line": {
           "width": 2
          },
          "size": 20
         },
         "mode": "markers+text",
         "text": [
          "11"
         ],
         "textfont": {
          "color": "white"
         },
         "textposition": "middle center",
         "type": "scatter",
         "x": [
          0.03541270583615828
         ],
         "y": [
          -0.3486777807189142
         ]
        },
        {
         "hoverinfo": "text",
         "marker": {
          "color": "#1f77b4",
          "line": {
           "width": 2
          },
          "size": 20
         },
         "mode": "markers+text",
         "text": [
          "12"
         ],
         "textfont": {
          "color": "white"
         },
         "textposition": "middle center",
         "type": "scatter",
         "x": [
          -0.33527179245122585
         ],
         "y": [
          -0.0284270877104422
         ]
        },
        {
         "hoverinfo": "text",
         "marker": {
          "color": "#1f77b4",
          "line": {
           "width": 2
          },
          "size": 20
         },
         "mode": "markers+text",
         "text": [
          "13"
         ],
         "textfont": {
          "color": "white"
         },
         "textposition": "middle center",
         "type": "scatter",
         "x": [
          -0.4582549616532089
         ],
         "y": [
          -0.5578389918453487
         ]
        },
        {
         "hoverinfo": "text",
         "marker": {
          "color": "#ff7f0e",
          "line": {
           "width": 2
          },
          "size": 20
         },
         "mode": "markers+text",
         "text": [
          "14"
         ],
         "textfont": {
          "color": "white"
         },
         "textposition": "middle center",
         "type": "scatter",
         "x": [
          0.17695150914575133
         ],
         "y": [
          0.8554176153851435
         ]
        },
        {
         "hoverinfo": "text",
         "marker": {
          "color": "#2ca02c",
          "line": {
           "width": 2
          },
          "size": 20
         },
         "mode": "markers+text",
         "text": [
          "15"
         ],
         "textfont": {
          "color": "white"
         },
         "textposition": "middle center",
         "type": "scatter",
         "x": [
          1
         ],
         "y": [
          0.10395438758436282
         ]
        },
        {
         "hoverinfo": "text",
         "marker": {
          "color": "#1f77b4",
          "line": {
           "width": 2
          },
          "size": 20
         },
         "mode": "markers+text",
         "text": [
          "16"
         ],
         "textfont": {
          "color": "white"
         },
         "textposition": "middle center",
         "type": "scatter",
         "x": [
          -0.10508274704774863
         ],
         "y": [
          -0.30465739415570686
         ]
        },
        {
         "hoverinfo": "text",
         "marker": {
          "color": "#1f77b4",
          "line": {
           "width": 2
          },
          "size": 20
         },
         "mode": "markers+text",
         "text": [
          "17"
         ],
         "textfont": {
          "color": "white"
         },
         "textposition": "middle center",
         "type": "scatter",
         "x": [
          -0.40888688971897175
         ],
         "y": [
          0.06145035025444637
         ]
        },
        {
         "hoverinfo": "text",
         "marker": {
          "color": "#1f77b4",
          "line": {
           "width": 2
          },
          "size": 20
         },
         "mode": "markers+text",
         "text": [
          "18"
         ],
         "textfont": {
          "color": "white"
         },
         "textposition": "middle center",
         "type": "scatter",
         "x": [
          -0.4624434394895313
         ],
         "y": [
          -0.45378175930700104
         ]
        },
        {
         "hoverinfo": "text",
         "marker": {
          "color": "#ff7f0e",
          "line": {
           "width": 2
          },
          "size": 20
         },
         "mode": "markers+text",
         "text": [
          "19"
         ],
         "textfont": {
          "color": "white"
         },
         "textposition": "middle center",
         "type": "scatter",
         "x": [
          0.20192815588374008
         ],
         "y": [
          0.7963645547679724
         ]
        }
       ],
       "layout": {
        "hovermode": "closest",
        "margin": {
         "b": 0,
         "l": 0,
         "r": 0,
         "t": 40
        },
        "showlegend": false,
        "template": {
         "data": {
          "bar": [
           {
            "error_x": {
             "color": "#2a3f5f"
            },
            "error_y": {
             "color": "#2a3f5f"
            },
            "marker": {
             "line": {
              "color": "#E5ECF6",
              "width": 0.5
             },
             "pattern": {
              "fillmode": "overlay",
              "size": 10,
              "solidity": 0.2
             }
            },
            "type": "bar"
           }
          ],
          "barpolar": [
           {
            "marker": {
             "line": {
              "color": "#E5ECF6",
              "width": 0.5
             },
             "pattern": {
              "fillmode": "overlay",
              "size": 10,
              "solidity": 0.2
             }
            },
            "type": "barpolar"
           }
          ],
          "carpet": [
           {
            "aaxis": {
             "endlinecolor": "#2a3f5f",
             "gridcolor": "white",
             "linecolor": "white",
             "minorgridcolor": "white",
             "startlinecolor": "#2a3f5f"
            },
            "baxis": {
             "endlinecolor": "#2a3f5f",
             "gridcolor": "white",
             "linecolor": "white",
             "minorgridcolor": "white",
             "startlinecolor": "#2a3f5f"
            },
            "type": "carpet"
           }
          ],
          "choropleth": [
           {
            "colorbar": {
             "outlinewidth": 0,
             "ticks": ""
            },
            "type": "choropleth"
           }
          ],
          "contour": [
           {
            "colorbar": {
             "outlinewidth": 0,
             "ticks": ""
            },
            "colorscale": [
             [
              0,
              "#0d0887"
             ],
             [
              0.1111111111111111,
              "#46039f"
             ],
             [
              0.2222222222222222,
              "#7201a8"
             ],
             [
              0.3333333333333333,
              "#9c179e"
             ],
             [
              0.4444444444444444,
              "#bd3786"
             ],
             [
              0.5555555555555556,
              "#d8576b"
             ],
             [
              0.6666666666666666,
              "#ed7953"
             ],
             [
              0.7777777777777778,
              "#fb9f3a"
             ],
             [
              0.8888888888888888,
              "#fdca26"
             ],
             [
              1,
              "#f0f921"
             ]
            ],
            "type": "contour"
           }
          ],
          "contourcarpet": [
           {
            "colorbar": {
             "outlinewidth": 0,
             "ticks": ""
            },
            "type": "contourcarpet"
           }
          ],
          "heatmap": [
           {
            "colorbar": {
             "outlinewidth": 0,
             "ticks": ""
            },
            "colorscale": [
             [
              0,
              "#0d0887"
             ],
             [
              0.1111111111111111,
              "#46039f"
             ],
             [
              0.2222222222222222,
              "#7201a8"
             ],
             [
              0.3333333333333333,
              "#9c179e"
             ],
             [
              0.4444444444444444,
              "#bd3786"
             ],
             [
              0.5555555555555556,
              "#d8576b"
             ],
             [
              0.6666666666666666,
              "#ed7953"
             ],
             [
              0.7777777777777778,
              "#fb9f3a"
             ],
             [
              0.8888888888888888,
              "#fdca26"
             ],
             [
              1,
              "#f0f921"
             ]
            ],
            "type": "heatmap"
           }
          ],
          "heatmapgl": [
           {
            "colorbar": {
             "outlinewidth": 0,
             "ticks": ""
            },
            "colorscale": [
             [
              0,
              "#0d0887"
             ],
             [
              0.1111111111111111,
              "#46039f"
             ],
             [
              0.2222222222222222,
              "#7201a8"
             ],
             [
              0.3333333333333333,
              "#9c179e"
             ],
             [
              0.4444444444444444,
              "#bd3786"
             ],
             [
              0.5555555555555556,
              "#d8576b"
             ],
             [
              0.6666666666666666,
              "#ed7953"
             ],
             [
              0.7777777777777778,
              "#fb9f3a"
             ],
             [
              0.8888888888888888,
              "#fdca26"
             ],
             [
              1,
              "#f0f921"
             ]
            ],
            "type": "heatmapgl"
           }
          ],
          "histogram": [
           {
            "marker": {
             "pattern": {
              "fillmode": "overlay",
              "size": 10,
              "solidity": 0.2
             }
            },
            "type": "histogram"
           }
          ],
          "histogram2d": [
           {
            "colorbar": {
             "outlinewidth": 0,
             "ticks": ""
            },
            "colorscale": [
             [
              0,
              "#0d0887"
             ],
             [
              0.1111111111111111,
              "#46039f"
             ],
             [
              0.2222222222222222,
              "#7201a8"
             ],
             [
              0.3333333333333333,
              "#9c179e"
             ],
             [
              0.4444444444444444,
              "#bd3786"
             ],
             [
              0.5555555555555556,
              "#d8576b"
             ],
             [
              0.6666666666666666,
              "#ed7953"
             ],
             [
              0.7777777777777778,
              "#fb9f3a"
             ],
             [
              0.8888888888888888,
              "#fdca26"
             ],
             [
              1,
              "#f0f921"
             ]
            ],
            "type": "histogram2d"
           }
          ],
          "histogram2dcontour": [
           {
            "colorbar": {
             "outlinewidth": 0,
             "ticks": ""
            },
            "colorscale": [
             [
              0,
              "#0d0887"
             ],
             [
              0.1111111111111111,
              "#46039f"
             ],
             [
              0.2222222222222222,
              "#7201a8"
             ],
             [
              0.3333333333333333,
              "#9c179e"
             ],
             [
              0.4444444444444444,
              "#bd3786"
             ],
             [
              0.5555555555555556,
              "#d8576b"
             ],
             [
              0.6666666666666666,
              "#ed7953"
             ],
             [
              0.7777777777777778,
              "#fb9f3a"
             ],
             [
              0.8888888888888888,
              "#fdca26"
             ],
             [
              1,
              "#f0f921"
             ]
            ],
            "type": "histogram2dcontour"
           }
          ],
          "mesh3d": [
           {
            "colorbar": {
             "outlinewidth": 0,
             "ticks": ""
            },
            "type": "mesh3d"
           }
          ],
          "parcoords": [
           {
            "line": {
             "colorbar": {
              "outlinewidth": 0,
              "ticks": ""
             }
            },
            "type": "parcoords"
           }
          ],
          "pie": [
           {
            "automargin": true,
            "type": "pie"
           }
          ],
          "scatter": [
           {
            "fillpattern": {
             "fillmode": "overlay",
             "size": 10,
             "solidity": 0.2
            },
            "type": "scatter"
           }
          ],
          "scatter3d": [
           {
            "line": {
             "colorbar": {
              "outlinewidth": 0,
              "ticks": ""
             }
            },
            "marker": {
             "colorbar": {
              "outlinewidth": 0,
              "ticks": ""
             }
            },
            "type": "scatter3d"
           }
          ],
          "scattercarpet": [
           {
            "marker": {
             "colorbar": {
              "outlinewidth": 0,
              "ticks": ""
             }
            },
            "type": "scattercarpet"
           }
          ],
          "scattergeo": [
           {
            "marker": {
             "colorbar": {
              "outlinewidth": 0,
              "ticks": ""
             }
            },
            "type": "scattergeo"
           }
          ],
          "scattergl": [
           {
            "marker": {
             "colorbar": {
              "outlinewidth": 0,
              "ticks": ""
             }
            },
            "type": "scattergl"
           }
          ],
          "scattermapbox": [
           {
            "marker": {
             "colorbar": {
              "outlinewidth": 0,
              "ticks": ""
             }
            },
            "type": "scattermapbox"
           }
          ],
          "scatterpolar": [
           {
            "marker": {
             "colorbar": {
              "outlinewidth": 0,
              "ticks": ""
             }
            },
            "type": "scatterpolar"
           }
          ],
          "scatterpolargl": [
           {
            "marker": {
             "colorbar": {
              "outlinewidth": 0,
              "ticks": ""
             }
            },
            "type": "scatterpolargl"
           }
          ],
          "scatterternary": [
           {
            "marker": {
             "colorbar": {
              "outlinewidth": 0,
              "ticks": ""
             }
            },
            "type": "scatterternary"
           }
          ],
          "surface": [
           {
            "colorbar": {
             "outlinewidth": 0,
             "ticks": ""
            },
            "colorscale": [
             [
              0,
              "#0d0887"
             ],
             [
              0.1111111111111111,
              "#46039f"
             ],
             [
              0.2222222222222222,
              "#7201a8"
             ],
             [
              0.3333333333333333,
              "#9c179e"
             ],
             [
              0.4444444444444444,
              "#bd3786"
             ],
             [
              0.5555555555555556,
              "#d8576b"
             ],
             [
              0.6666666666666666,
              "#ed7953"
             ],
             [
              0.7777777777777778,
              "#fb9f3a"
             ],
             [
              0.8888888888888888,
              "#fdca26"
             ],
             [
              1,
              "#f0f921"
             ]
            ],
            "type": "surface"
           }
          ],
          "table": [
           {
            "cells": {
             "fill": {
              "color": "#EBF0F8"
             },
             "line": {
              "color": "white"
             }
            },
            "header": {
             "fill": {
              "color": "#C8D4E3"
             },
             "line": {
              "color": "white"
             }
            },
            "type": "table"
           }
          ]
         },
         "layout": {
          "annotationdefaults": {
           "arrowcolor": "#2a3f5f",
           "arrowhead": 0,
           "arrowwidth": 1
          },
          "autotypenumbers": "strict",
          "coloraxis": {
           "colorbar": {
            "outlinewidth": 0,
            "ticks": ""
           }
          },
          "colorscale": {
           "diverging": [
            [
             0,
             "#8e0152"
            ],
            [
             0.1,
             "#c51b7d"
            ],
            [
             0.2,
             "#de77ae"
            ],
            [
             0.3,
             "#f1b6da"
            ],
            [
             0.4,
             "#fde0ef"
            ],
            [
             0.5,
             "#f7f7f7"
            ],
            [
             0.6,
             "#e6f5d0"
            ],
            [
             0.7,
             "#b8e186"
            ],
            [
             0.8,
             "#7fbc41"
            ],
            [
             0.9,
             "#4d9221"
            ],
            [
             1,
             "#276419"
            ]
           ],
           "sequential": [
            [
             0,
             "#0d0887"
            ],
            [
             0.1111111111111111,
             "#46039f"
            ],
            [
             0.2222222222222222,
             "#7201a8"
            ],
            [
             0.3333333333333333,
             "#9c179e"
            ],
            [
             0.4444444444444444,
             "#bd3786"
            ],
            [
             0.5555555555555556,
             "#d8576b"
            ],
            [
             0.6666666666666666,
             "#ed7953"
            ],
            [
             0.7777777777777778,
             "#fb9f3a"
            ],
            [
             0.8888888888888888,
             "#fdca26"
            ],
            [
             1,
             "#f0f921"
            ]
           ],
           "sequentialminus": [
            [
             0,
             "#0d0887"
            ],
            [
             0.1111111111111111,
             "#46039f"
            ],
            [
             0.2222222222222222,
             "#7201a8"
            ],
            [
             0.3333333333333333,
             "#9c179e"
            ],
            [
             0.4444444444444444,
             "#bd3786"
            ],
            [
             0.5555555555555556,
             "#d8576b"
            ],
            [
             0.6666666666666666,
             "#ed7953"
            ],
            [
             0.7777777777777778,
             "#fb9f3a"
            ],
            [
             0.8888888888888888,
             "#fdca26"
            ],
            [
             1,
             "#f0f921"
            ]
           ]
          },
          "colorway": [
           "#636efa",
           "#EF553B",
           "#00cc96",
           "#ab63fa",
           "#FFA15A",
           "#19d3f3",
           "#FF6692",
           "#B6E880",
           "#FF97FF",
           "#FECB52"
          ],
          "font": {
           "color": "#2a3f5f"
          },
          "geo": {
           "bgcolor": "white",
           "lakecolor": "white",
           "landcolor": "#E5ECF6",
           "showlakes": true,
           "showland": true,
           "subunitcolor": "white"
          },
          "hoverlabel": {
           "align": "left"
          },
          "hovermode": "closest",
          "mapbox": {
           "style": "light"
          },
          "paper_bgcolor": "white",
          "plot_bgcolor": "#E5ECF6",
          "polar": {
           "angularaxis": {
            "gridcolor": "white",
            "linecolor": "white",
            "ticks": ""
           },
           "bgcolor": "#E5ECF6",
           "radialaxis": {
            "gridcolor": "white",
            "linecolor": "white",
            "ticks": ""
           }
          },
          "scene": {
           "xaxis": {
            "backgroundcolor": "#E5ECF6",
            "gridcolor": "white",
            "gridwidth": 2,
            "linecolor": "white",
            "showbackground": true,
            "ticks": "",
            "zerolinecolor": "white"
           },
           "yaxis": {
            "backgroundcolor": "#E5ECF6",
            "gridcolor": "white",
            "gridwidth": 2,
            "linecolor": "white",
            "showbackground": true,
            "ticks": "",
            "zerolinecolor": "white"
           },
           "zaxis": {
            "backgroundcolor": "#E5ECF6",
            "gridcolor": "white",
            "gridwidth": 2,
            "linecolor": "white",
            "showbackground": true,
            "ticks": "",
            "zerolinecolor": "white"
           }
          },
          "shapedefaults": {
           "line": {
            "color": "#2a3f5f"
           }
          },
          "ternary": {
           "aaxis": {
            "gridcolor": "white",
            "linecolor": "white",
            "ticks": ""
           },
           "baxis": {
            "gridcolor": "white",
            "linecolor": "white",
            "ticks": ""
           },
           "bgcolor": "#E5ECF6",
           "caxis": {
            "gridcolor": "white",
            "linecolor": "white",
            "ticks": ""
           }
          },
          "title": {
           "x": 0.05
          },
          "xaxis": {
           "automargin": true,
           "gridcolor": "white",
           "linecolor": "white",
           "ticks": "",
           "title": {
            "standoff": 15
           },
           "zerolinecolor": "white",
           "zerolinewidth": 2
          },
          "yaxis": {
           "automargin": true,
           "gridcolor": "white",
           "linecolor": "white",
           "ticks": "",
           "title": {
            "standoff": 15
           },
           "zerolinecolor": "white",
           "zerolinewidth": 2
          }
         }
        },
        "title": {
         "font": {
          "size": 16
         },
         "text": "<br>Interactive Graph Visualization"
        },
        "xaxis": {
         "showgrid": false,
         "zeroline": false
        },
        "yaxis": {
         "showgrid": false,
         "zeroline": false
        }
       }
      }
     },
     "metadata": {},
     "output_type": "display_data"
    }
   ],
   "source": [
    "\n",
    "import matplotlib.colors as mcolors\n",
    "\n",
    "def find_and_color_connected_components(G, colors):\n",
    "    connected_components = list(nx.connected_components(G))\n",
    "    component_color_map = {}\n",
    "\n",
    "    for i, component in enumerate(connected_components):\n",
    "        color = colors[i % len(colors)]  # Cycle through the provided colors\n",
    "        for node in component:\n",
    "            component_color_map[node] = color\n",
    "\n",
    "    return component_color_map\n",
    "\n",
    "def find_connected_components(G):\n",
    "    return list(nx.connected_components(G))\n",
    "\n",
    "def assign_colors_to_components(connected_components, colors):\n",
    "    \n",
    "    component_color_map = {}\n",
    "    \n",
    "    for i, component in enumerate(connected_components):\n",
    "        color = colors[i % len(colors)]\n",
    "        for node in component:\n",
    "            component_color_map[node] = color\n",
    "    \n",
    "    return component_color_map\n",
    "\n",
    "def create_plotly_graph_color(G, component_color_map):\n",
    "    pos = nx.spring_layout(G)  # Get node positions using spring layout\n",
    "    edge_trace = []\n",
    "    node_trace = []\n",
    "\n",
    "    # Create edge traces\n",
    "    for edge in G.edges():\n",
    "        x0, y0 = pos[edge[0]]\n",
    "        x1, y1 = pos[edge[1]]\n",
    "        edge_trace.append(go.Scatter(\n",
    "            x=[x0, x1, None], \n",
    "            y=[y0, y1, None],\n",
    "            line=dict(width=2, color='#888'),\n",
    "            hoverinfo='none',\n",
    "            mode='lines'))\n",
    "\n",
    "    \n",
    "    for node in G.nodes():\n",
    "        x, y = pos[node]\n",
    "        node_trace.append(go.Scatter(\n",
    "            x=[x],\n",
    "            y=[y],\n",
    "            text=[str(node)],  # Node number inside the node\n",
    "            mode='markers+text',\n",
    "            hoverinfo='text',\n",
    "            textposition='middle center',  # Center the node label\n",
    "            marker=dict(\n",
    "                size=20,\n",
    "                color=component_color_map[node],  # Color based on the connected component\n",
    "                line_width=2),textfont=dict(color='white')))\n",
    "\n",
    "    # Create the figure\n",
    "    fig = go.Figure(data=edge_trace + node_trace,\n",
    "                    layout=go.Layout(\n",
    "                        title='<br>Interactive Graph Visualization',\n",
    "                        titlefont_size=16,\n",
    "                        showlegend=False,\n",
    "                        hovermode='closest', \n",
    "                        margin=dict(b=0, l=0, r=0, t=40),\n",
    "                        xaxis=dict(showgrid=False, zeroline=False),\n",
    "                        yaxis=dict(showgrid=False, zeroline=False)))\n",
    "    \n",
    "    fig.show()\n",
    "\n",
    "colors = list(mcolors.TABLEAU_COLORS.values())\n",
    "\n",
    "\n",
    "connected_components = find_connected_components(G)\n",
    "\n",
    "\n",
    "component_color_map = assign_colors_to_components(connected_components, colors)\n",
    "\n",
    "\n",
    "create_plotly_graph_color(G,component_color_map)\n"
   ]
  },
  {
   "cell_type": "code",
   "execution_count": 56,
   "metadata": {},
   "outputs": [
    {
     "data": {
      "application/vnd.plotly.v1+json": {
       "config": {
        "plotlyServerURL": "https://plot.ly"
       },
       "data": [
        {
         "hoverinfo": "none",
         "line": {
          "color": "#888",
          "width": 2
         },
         "mode": "lines",
         "type": "scatter",
         "x": [
          -0.08437691978565229,
          -0.2232720886778767,
          null
         ],
         "y": [
          0.08574017832631244,
          -0.01794170756818189,
          null
         ]
        },
        {
         "hoverinfo": "none",
         "line": {
          "color": "#888",
          "width": 2
         },
         "mode": "lines",
         "type": "scatter",
         "x": [
          -0.08437691978565229,
          0.06173289377246434,
          null
         ],
         "y": [
          0.08574017832631244,
          0.12159685513323293,
          null
         ]
        },
        {
         "hoverinfo": "none",
         "line": {
          "color": "#888",
          "width": 2
         },
         "mode": "lines",
         "type": "scatter",
         "x": [
          -0.2232720886778767,
          -0.1673201304936547,
          null
         ],
         "y": [
          -0.01794170756818189,
          -0.20871454236187206,
          null
         ]
        },
        {
         "hoverinfo": "none",
         "line": {
          "color": "#888",
          "width": 2
         },
         "mode": "lines",
         "type": "scatter",
         "x": [
          -0.2232720886778767,
          -0.3997356186301907,
          null
         ],
         "y": [
          -0.01794170756818189,
          0.051021177273541496,
          null
         ]
        },
        {
         "hoverinfo": "none",
         "line": {
          "color": "#888",
          "width": 2
         },
         "mode": "lines",
         "type": "scatter",
         "x": [
          0.06173289377246434,
          0.16537878873284992,
          null
         ],
         "y": [
          0.12159685513323293,
          0.04490923245390499,
          null
         ]
        },
        {
         "hoverinfo": "none",
         "line": {
          "color": "#888",
          "width": 2
         },
         "mode": "lines",
         "type": "scatter",
         "x": [
          -0.1673201304936547,
          -0.002508704494593117,
          null
         ],
         "y": [
          -0.20871454236187206,
          -0.17087137861108972,
          null
         ]
        },
        {
         "hoverinfo": "none",
         "line": {
          "color": "#888",
          "width": 2
         },
         "mode": "lines",
         "type": "scatter",
         "x": [
          -0.1673201304936547,
          -0.18212902491371244,
          null
         ],
         "y": [
          -0.20871454236187206,
          -0.3651464976297049,
          null
         ]
        },
        {
         "hoverinfo": "none",
         "line": {
          "color": "#888",
          "width": 2
         },
         "mode": "lines",
         "type": "scatter",
         "x": [
          -0.1673201304936547,
          -0.2623426450937596,
          null
         ],
         "y": [
          -0.20871454236187206,
          -0.33030761106401024,
          null
         ]
        },
        {
         "hoverinfo": "none",
         "line": {
          "color": "#888",
          "width": 2
         },
         "mode": "lines",
         "type": "scatter",
         "x": [
          0.8999522989082023,
          0.9517205768412167,
          null
         ],
         "y": [
          -0.439905038762415,
          -0.3989514228799083,
          null
         ]
        },
        {
         "hoverinfo": "none",
         "line": {
          "color": "#888",
          "width": 2
         },
         "mode": "lines",
         "type": "scatter",
         "x": [
          0.8999522989082023,
          1,
          null
         ],
         "y": [
          -0.439905038762415,
          -0.35624285079971474,
          null
         ]
        },
        {
         "hoverinfo": "none",
         "line": {
          "color": "#888",
          "width": 2
         },
         "mode": "lines",
         "type": "scatter",
         "x": [
          -0.40480017082922193,
          -0.44609136023692425,
          null
         ],
         "y": [
          0.9615343970167254,
          0.8711607499692382,
          null
         ]
        },
        {
         "hoverinfo": "none",
         "line": {
          "color": "#888",
          "width": 2
         },
         "mode": "lines",
         "type": "scatter",
         "x": [
          -0.6915299078429491,
          -0.5608060672357127,
          null
         ],
         "y": [
          0.12486893130936856,
          0.0966458063376926,
          null
         ]
        },
        {
         "hoverinfo": "none",
         "line": {
          "color": "#888",
          "width": 2
         },
         "mode": "lines",
         "type": "scatter",
         "x": [
          -0.002508704494593117,
          0.12509554835953918,
          null
         ],
         "y": [
          -0.17087137861108972,
          -0.08473933303995727,
          null
         ]
        },
        {
         "hoverinfo": "none",
         "line": {
          "color": "#888",
          "width": 2
         },
         "mode": "lines",
         "type": "scatter",
         "x": [
          -0.18212902491371244,
          -0.2626296499395779,
          null
         ],
         "y": [
          -0.3651464976297049,
          -0.4451731767463161,
          null
         ]
        },
        {
         "hoverinfo": "none",
         "line": {
          "color": "#888",
          "width": 2
         },
         "mode": "lines",
         "type": "scatter",
         "x": [
          0.9517205768412167,
          0.9252132827170781,
          null
         ],
         "y": [
          -0.3989514228799083,
          -0.29526981767723615,
          null
         ]
        },
        {
         "hoverinfo": "none",
         "line": {
          "color": "#888",
          "width": 2
         },
         "mode": "lines",
         "type": "scatter",
         "x": [
          -0.44609136023692425,
          -0.44155110115752483,
          null
         ],
         "y": [
          0.8711607499692382,
          0.7557860493203894,
          null
         ]
        },
        {
         "hoverinfo": "none",
         "line": {
          "color": "#888",
          "width": 2
         },
         "mode": "lines",
         "type": "scatter",
         "x": [
          -0.5608060672357127,
          -0.3997356186301907,
          null
         ],
         "y": [
          0.0966458063376926,
          0.051021177273541496,
          null
         ]
        },
        {
         "hoverinfo": "none",
         "line": {
          "color": "#888",
          "width": 2
         },
         "mode": "lines",
         "type": "scatter",
         "x": [
          0.12509554835953918,
          0.16537878873284992,
          null
         ],
         "y": [
          -0.08473933303995727,
          0.04490923245390499,
          null
         ]
        },
        {
         "hoverinfo": "none",
         "line": {
          "color": "#888",
          "width": 2
         },
         "mode": "lines",
         "type": "scatter",
         "x": [
          -0.2626296499395779,
          -0.2623426450937596,
          null
         ],
         "y": [
          -0.4451731767463161,
          -0.33030761106401024,
          null
         ]
        },
        {
         "hoverinfo": "none",
         "line": {
          "color": "#888",
          "width": 2
         },
         "mode": "lines",
         "type": "scatter",
         "x": [
          0.9252132827170781,
          1,
          null
         ],
         "y": [
          -0.29526981767723615,
          -0.35624285079971474,
          null
         ]
        },
        {
         "hoverinfo": "text",
         "marker": {
          "color": "blue",
          "line": {
           "width": 2
          },
          "size": 20
         },
         "mode": "markers+text",
         "text": [
          "0"
         ],
         "textfont": {
          "color": "white"
         },
         "textposition": "middle center",
         "type": "scatter",
         "x": [
          -0.08437691978565229
         ],
         "y": [
          0.08574017832631244
         ]
        },
        {
         "hoverinfo": "text",
         "marker": {
          "color": "blue",
          "line": {
           "width": 2
          },
          "size": 20
         },
         "mode": "markers+text",
         "text": [
          "1"
         ],
         "textfont": {
          "color": "white"
         },
         "textposition": "middle center",
         "type": "scatter",
         "x": [
          -0.2232720886778767
         ],
         "y": [
          -0.01794170756818189
         ]
        },
        {
         "hoverinfo": "text",
         "marker": {
          "color": "blue",
          "line": {
           "width": 2
          },
          "size": 20
         },
         "mode": "markers+text",
         "text": [
          "2"
         ],
         "textfont": {
          "color": "white"
         },
         "textposition": "middle center",
         "type": "scatter",
         "x": [
          0.06173289377246434
         ],
         "y": [
          0.12159685513323293
         ]
        },
        {
         "hoverinfo": "text",
         "marker": {
          "color": "blue",
          "line": {
           "width": 2
          },
          "size": 20
         },
         "mode": "markers+text",
         "text": [
          "3"
         ],
         "textfont": {
          "color": "white"
         },
         "textposition": "middle center",
         "type": "scatter",
         "x": [
          -0.1673201304936547
         ],
         "y": [
          -0.20871454236187206
         ]
        },
        {
         "hoverinfo": "text",
         "marker": {
          "color": "blue",
          "line": {
           "width": 2
          },
          "size": 20
         },
         "mode": "markers+text",
         "text": [
          "4"
         ],
         "textfont": {
          "color": "white"
         },
         "textposition": "middle center",
         "type": "scatter",
         "x": [
          0.8999522989082023
         ],
         "y": [
          -0.439905038762415
         ]
        },
        {
         "hoverinfo": "text",
         "marker": {
          "color": "red",
          "line": {
           "width": 2
          },
          "size": 20
         },
         "mode": "markers+text",
         "text": [
          "5"
         ],
         "textfont": {
          "color": "white"
         },
         "textposition": "middle center",
         "type": "scatter",
         "x": [
          -0.40480017082922193
         ],
         "y": [
          0.9615343970167254
         ]
        },
        {
         "hoverinfo": "text",
         "marker": {
          "color": "blue",
          "line": {
           "width": 2
          },
          "size": 20
         },
         "mode": "markers+text",
         "text": [
          "6"
         ],
         "textfont": {
          "color": "white"
         },
         "textposition": "middle center",
         "type": "scatter",
         "x": [
          -0.6915299078429491
         ],
         "y": [
          0.12486893130936856
         ]
        },
        {
         "hoverinfo": "text",
         "marker": {
          "color": "blue",
          "line": {
           "width": 2
          },
          "size": 20
         },
         "mode": "markers+text",
         "text": [
          "7"
         ],
         "textfont": {
          "color": "white"
         },
         "textposition": "middle center",
         "type": "scatter",
         "x": [
          -0.002508704494593117
         ],
         "y": [
          -0.17087137861108972
         ]
        },
        {
         "hoverinfo": "text",
         "marker": {
          "color": "blue",
          "line": {
           "width": 2
          },
          "size": 20
         },
         "mode": "markers+text",
         "text": [
          "8"
         ],
         "textfont": {
          "color": "white"
         },
         "textposition": "middle center",
         "type": "scatter",
         "x": [
          -0.18212902491371244
         ],
         "y": [
          -0.3651464976297049
         ]
        },
        {
         "hoverinfo": "text",
         "marker": {
          "color": "blue",
          "line": {
           "width": 2
          },
          "size": 20
         },
         "mode": "markers+text",
         "text": [
          "9"
         ],
         "textfont": {
          "color": "white"
         },
         "textposition": "middle center",
         "type": "scatter",
         "x": [
          0.9517205768412167
         ],
         "y": [
          -0.3989514228799083
         ]
        },
        {
         "hoverinfo": "text",
         "marker": {
          "color": "red",
          "line": {
           "width": 2
          },
          "size": 20
         },
         "mode": "markers+text",
         "text": [
          "10"
         ],
         "textfont": {
          "color": "white"
         },
         "textposition": "middle center",
         "type": "scatter",
         "x": [
          -0.44609136023692425
         ],
         "y": [
          0.8711607499692382
         ]
        },
        {
         "hoverinfo": "text",
         "marker": {
          "color": "blue",
          "line": {
           "width": 2
          },
          "size": 20
         },
         "mode": "markers+text",
         "text": [
          "11"
         ],
         "textfont": {
          "color": "white"
         },
         "textposition": "middle center",
         "type": "scatter",
         "x": [
          -0.5608060672357127
         ],
         "y": [
          0.0966458063376926
         ]
        },
        {
         "hoverinfo": "text",
         "marker": {
          "color": "blue",
          "line": {
           "width": 2
          },
          "size": 20
         },
         "mode": "markers+text",
         "text": [
          "12"
         ],
         "textfont": {
          "color": "white"
         },
         "textposition": "middle center",
         "type": "scatter",
         "x": [
          0.12509554835953918
         ],
         "y": [
          -0.08473933303995727
         ]
        },
        {
         "hoverinfo": "text",
         "marker": {
          "color": "blue",
          "line": {
           "width": 2
          },
          "size": 20
         },
         "mode": "markers+text",
         "text": [
          "13"
         ],
         "textfont": {
          "color": "white"
         },
         "textposition": "middle center",
         "type": "scatter",
         "x": [
          -0.2626296499395779
         ],
         "y": [
          -0.4451731767463161
         ]
        },
        {
         "hoverinfo": "text",
         "marker": {
          "color": "blue",
          "line": {
           "width": 2
          },
          "size": 20
         },
         "mode": "markers+text",
         "text": [
          "14"
         ],
         "textfont": {
          "color": "white"
         },
         "textposition": "middle center",
         "type": "scatter",
         "x": [
          0.9252132827170781
         ],
         "y": [
          -0.29526981767723615
         ]
        },
        {
         "hoverinfo": "text",
         "marker": {
          "color": "red",
          "line": {
           "width": 2
          },
          "size": 20
         },
         "mode": "markers+text",
         "text": [
          "15"
         ],
         "textfont": {
          "color": "white"
         },
         "textposition": "middle center",
         "type": "scatter",
         "x": [
          -0.44155110115752483
         ],
         "y": [
          0.7557860493203894
         ]
        },
        {
         "hoverinfo": "text",
         "marker": {
          "color": "blue",
          "line": {
           "width": 2
          },
          "size": 20
         },
         "mode": "markers+text",
         "text": [
          "16"
         ],
         "textfont": {
          "color": "white"
         },
         "textposition": "middle center",
         "type": "scatter",
         "x": [
          -0.3997356186301907
         ],
         "y": [
          0.051021177273541496
         ]
        },
        {
         "hoverinfo": "text",
         "marker": {
          "color": "blue",
          "line": {
           "width": 2
          },
          "size": 20
         },
         "mode": "markers+text",
         "text": [
          "17"
         ],
         "textfont": {
          "color": "white"
         },
         "textposition": "middle center",
         "type": "scatter",
         "x": [
          0.16537878873284992
         ],
         "y": [
          0.04490923245390499
         ]
        },
        {
         "hoverinfo": "text",
         "marker": {
          "color": "blue",
          "line": {
           "width": 2
          },
          "size": 20
         },
         "mode": "markers+text",
         "text": [
          "18"
         ],
         "textfont": {
          "color": "white"
         },
         "textposition": "middle center",
         "type": "scatter",
         "x": [
          -0.2623426450937596
         ],
         "y": [
          -0.33030761106401024
         ]
        },
        {
         "hoverinfo": "text",
         "marker": {
          "color": "blue",
          "line": {
           "width": 2
          },
          "size": 20
         },
         "mode": "markers+text",
         "text": [
          "19"
         ],
         "textfont": {
          "color": "white"
         },
         "textposition": "middle center",
         "type": "scatter",
         "x": [
          1
         ],
         "y": [
          -0.35624285079971474
         ]
        }
       ],
       "layout": {
        "hovermode": "closest",
        "margin": {
         "b": 0,
         "l": 0,
         "r": 0,
         "t": 40
        },
        "showlegend": false,
        "template": {
         "data": {
          "bar": [
           {
            "error_x": {
             "color": "#2a3f5f"
            },
            "error_y": {
             "color": "#2a3f5f"
            },
            "marker": {
             "line": {
              "color": "#E5ECF6",
              "width": 0.5
             },
             "pattern": {
              "fillmode": "overlay",
              "size": 10,
              "solidity": 0.2
             }
            },
            "type": "bar"
           }
          ],
          "barpolar": [
           {
            "marker": {
             "line": {
              "color": "#E5ECF6",
              "width": 0.5
             },
             "pattern": {
              "fillmode": "overlay",
              "size": 10,
              "solidity": 0.2
             }
            },
            "type": "barpolar"
           }
          ],
          "carpet": [
           {
            "aaxis": {
             "endlinecolor": "#2a3f5f",
             "gridcolor": "white",
             "linecolor": "white",
             "minorgridcolor": "white",
             "startlinecolor": "#2a3f5f"
            },
            "baxis": {
             "endlinecolor": "#2a3f5f",
             "gridcolor": "white",
             "linecolor": "white",
             "minorgridcolor": "white",
             "startlinecolor": "#2a3f5f"
            },
            "type": "carpet"
           }
          ],
          "choropleth": [
           {
            "colorbar": {
             "outlinewidth": 0,
             "ticks": ""
            },
            "type": "choropleth"
           }
          ],
          "contour": [
           {
            "colorbar": {
             "outlinewidth": 0,
             "ticks": ""
            },
            "colorscale": [
             [
              0,
              "#0d0887"
             ],
             [
              0.1111111111111111,
              "#46039f"
             ],
             [
              0.2222222222222222,
              "#7201a8"
             ],
             [
              0.3333333333333333,
              "#9c179e"
             ],
             [
              0.4444444444444444,
              "#bd3786"
             ],
             [
              0.5555555555555556,
              "#d8576b"
             ],
             [
              0.6666666666666666,
              "#ed7953"
             ],
             [
              0.7777777777777778,
              "#fb9f3a"
             ],
             [
              0.8888888888888888,
              "#fdca26"
             ],
             [
              1,
              "#f0f921"
             ]
            ],
            "type": "contour"
           }
          ],
          "contourcarpet": [
           {
            "colorbar": {
             "outlinewidth": 0,
             "ticks": ""
            },
            "type": "contourcarpet"
           }
          ],
          "heatmap": [
           {
            "colorbar": {
             "outlinewidth": 0,
             "ticks": ""
            },
            "colorscale": [
             [
              0,
              "#0d0887"
             ],
             [
              0.1111111111111111,
              "#46039f"
             ],
             [
              0.2222222222222222,
              "#7201a8"
             ],
             [
              0.3333333333333333,
              "#9c179e"
             ],
             [
              0.4444444444444444,
              "#bd3786"
             ],
             [
              0.5555555555555556,
              "#d8576b"
             ],
             [
              0.6666666666666666,
              "#ed7953"
             ],
             [
              0.7777777777777778,
              "#fb9f3a"
             ],
             [
              0.8888888888888888,
              "#fdca26"
             ],
             [
              1,
              "#f0f921"
             ]
            ],
            "type": "heatmap"
           }
          ],
          "heatmapgl": [
           {
            "colorbar": {
             "outlinewidth": 0,
             "ticks": ""
            },
            "colorscale": [
             [
              0,
              "#0d0887"
             ],
             [
              0.1111111111111111,
              "#46039f"
             ],
             [
              0.2222222222222222,
              "#7201a8"
             ],
             [
              0.3333333333333333,
              "#9c179e"
             ],
             [
              0.4444444444444444,
              "#bd3786"
             ],
             [
              0.5555555555555556,
              "#d8576b"
             ],
             [
              0.6666666666666666,
              "#ed7953"
             ],
             [
              0.7777777777777778,
              "#fb9f3a"
             ],
             [
              0.8888888888888888,
              "#fdca26"
             ],
             [
              1,
              "#f0f921"
             ]
            ],
            "type": "heatmapgl"
           }
          ],
          "histogram": [
           {
            "marker": {
             "pattern": {
              "fillmode": "overlay",
              "size": 10,
              "solidity": 0.2
             }
            },
            "type": "histogram"
           }
          ],
          "histogram2d": [
           {
            "colorbar": {
             "outlinewidth": 0,
             "ticks": ""
            },
            "colorscale": [
             [
              0,
              "#0d0887"
             ],
             [
              0.1111111111111111,
              "#46039f"
             ],
             [
              0.2222222222222222,
              "#7201a8"
             ],
             [
              0.3333333333333333,
              "#9c179e"
             ],
             [
              0.4444444444444444,
              "#bd3786"
             ],
             [
              0.5555555555555556,
              "#d8576b"
             ],
             [
              0.6666666666666666,
              "#ed7953"
             ],
             [
              0.7777777777777778,
              "#fb9f3a"
             ],
             [
              0.8888888888888888,
              "#fdca26"
             ],
             [
              1,
              "#f0f921"
             ]
            ],
            "type": "histogram2d"
           }
          ],
          "histogram2dcontour": [
           {
            "colorbar": {
             "outlinewidth": 0,
             "ticks": ""
            },
            "colorscale": [
             [
              0,
              "#0d0887"
             ],
             [
              0.1111111111111111,
              "#46039f"
             ],
             [
              0.2222222222222222,
              "#7201a8"
             ],
             [
              0.3333333333333333,
              "#9c179e"
             ],
             [
              0.4444444444444444,
              "#bd3786"
             ],
             [
              0.5555555555555556,
              "#d8576b"
             ],
             [
              0.6666666666666666,
              "#ed7953"
             ],
             [
              0.7777777777777778,
              "#fb9f3a"
             ],
             [
              0.8888888888888888,
              "#fdca26"
             ],
             [
              1,
              "#f0f921"
             ]
            ],
            "type": "histogram2dcontour"
           }
          ],
          "mesh3d": [
           {
            "colorbar": {
             "outlinewidth": 0,
             "ticks": ""
            },
            "type": "mesh3d"
           }
          ],
          "parcoords": [
           {
            "line": {
             "colorbar": {
              "outlinewidth": 0,
              "ticks": ""
             }
            },
            "type": "parcoords"
           }
          ],
          "pie": [
           {
            "automargin": true,
            "type": "pie"
           }
          ],
          "scatter": [
           {
            "fillpattern": {
             "fillmode": "overlay",
             "size": 10,
             "solidity": 0.2
            },
            "type": "scatter"
           }
          ],
          "scatter3d": [
           {
            "line": {
             "colorbar": {
              "outlinewidth": 0,
              "ticks": ""
             }
            },
            "marker": {
             "colorbar": {
              "outlinewidth": 0,
              "ticks": ""
             }
            },
            "type": "scatter3d"
           }
          ],
          "scattercarpet": [
           {
            "marker": {
             "colorbar": {
              "outlinewidth": 0,
              "ticks": ""
             }
            },
            "type": "scattercarpet"
           }
          ],
          "scattergeo": [
           {
            "marker": {
             "colorbar": {
              "outlinewidth": 0,
              "ticks": ""
             }
            },
            "type": "scattergeo"
           }
          ],
          "scattergl": [
           {
            "marker": {
             "colorbar": {
              "outlinewidth": 0,
              "ticks": ""
             }
            },
            "type": "scattergl"
           }
          ],
          "scattermapbox": [
           {
            "marker": {
             "colorbar": {
              "outlinewidth": 0,
              "ticks": ""
             }
            },
            "type": "scattermapbox"
           }
          ],
          "scatterpolar": [
           {
            "marker": {
             "colorbar": {
              "outlinewidth": 0,
              "ticks": ""
             }
            },
            "type": "scatterpolar"
           }
          ],
          "scatterpolargl": [
           {
            "marker": {
             "colorbar": {
              "outlinewidth": 0,
              "ticks": ""
             }
            },
            "type": "scatterpolargl"
           }
          ],
          "scatterternary": [
           {
            "marker": {
             "colorbar": {
              "outlinewidth": 0,
              "ticks": ""
             }
            },
            "type": "scatterternary"
           }
          ],
          "surface": [
           {
            "colorbar": {
             "outlinewidth": 0,
             "ticks": ""
            },
            "colorscale": [
             [
              0,
              "#0d0887"
             ],
             [
              0.1111111111111111,
              "#46039f"
             ],
             [
              0.2222222222222222,
              "#7201a8"
             ],
             [
              0.3333333333333333,
              "#9c179e"
             ],
             [
              0.4444444444444444,
              "#bd3786"
             ],
             [
              0.5555555555555556,
              "#d8576b"
             ],
             [
              0.6666666666666666,
              "#ed7953"
             ],
             [
              0.7777777777777778,
              "#fb9f3a"
             ],
             [
              0.8888888888888888,
              "#fdca26"
             ],
             [
              1,
              "#f0f921"
             ]
            ],
            "type": "surface"
           }
          ],
          "table": [
           {
            "cells": {
             "fill": {
              "color": "#EBF0F8"
             },
             "line": {
              "color": "white"
             }
            },
            "header": {
             "fill": {
              "color": "#C8D4E3"
             },
             "line": {
              "color": "white"
             }
            },
            "type": "table"
           }
          ]
         },
         "layout": {
          "annotationdefaults": {
           "arrowcolor": "#2a3f5f",
           "arrowhead": 0,
           "arrowwidth": 1
          },
          "autotypenumbers": "strict",
          "coloraxis": {
           "colorbar": {
            "outlinewidth": 0,
            "ticks": ""
           }
          },
          "colorscale": {
           "diverging": [
            [
             0,
             "#8e0152"
            ],
            [
             0.1,
             "#c51b7d"
            ],
            [
             0.2,
             "#de77ae"
            ],
            [
             0.3,
             "#f1b6da"
            ],
            [
             0.4,
             "#fde0ef"
            ],
            [
             0.5,
             "#f7f7f7"
            ],
            [
             0.6,
             "#e6f5d0"
            ],
            [
             0.7,
             "#b8e186"
            ],
            [
             0.8,
             "#7fbc41"
            ],
            [
             0.9,
             "#4d9221"
            ],
            [
             1,
             "#276419"
            ]
           ],
           "sequential": [
            [
             0,
             "#0d0887"
            ],
            [
             0.1111111111111111,
             "#46039f"
            ],
            [
             0.2222222222222222,
             "#7201a8"
            ],
            [
             0.3333333333333333,
             "#9c179e"
            ],
            [
             0.4444444444444444,
             "#bd3786"
            ],
            [
             0.5555555555555556,
             "#d8576b"
            ],
            [
             0.6666666666666666,
             "#ed7953"
            ],
            [
             0.7777777777777778,
             "#fb9f3a"
            ],
            [
             0.8888888888888888,
             "#fdca26"
            ],
            [
             1,
             "#f0f921"
            ]
           ],
           "sequentialminus": [
            [
             0,
             "#0d0887"
            ],
            [
             0.1111111111111111,
             "#46039f"
            ],
            [
             0.2222222222222222,
             "#7201a8"
            ],
            [
             0.3333333333333333,
             "#9c179e"
            ],
            [
             0.4444444444444444,
             "#bd3786"
            ],
            [
             0.5555555555555556,
             "#d8576b"
            ],
            [
             0.6666666666666666,
             "#ed7953"
            ],
            [
             0.7777777777777778,
             "#fb9f3a"
            ],
            [
             0.8888888888888888,
             "#fdca26"
            ],
            [
             1,
             "#f0f921"
            ]
           ]
          },
          "colorway": [
           "#636efa",
           "#EF553B",
           "#00cc96",
           "#ab63fa",
           "#FFA15A",
           "#19d3f3",
           "#FF6692",
           "#B6E880",
           "#FF97FF",
           "#FECB52"
          ],
          "font": {
           "color": "#2a3f5f"
          },
          "geo": {
           "bgcolor": "white",
           "lakecolor": "white",
           "landcolor": "#E5ECF6",
           "showlakes": true,
           "showland": true,
           "subunitcolor": "white"
          },
          "hoverlabel": {
           "align": "left"
          },
          "hovermode": "closest",
          "mapbox": {
           "style": "light"
          },
          "paper_bgcolor": "white",
          "plot_bgcolor": "#E5ECF6",
          "polar": {
           "angularaxis": {
            "gridcolor": "white",
            "linecolor": "white",
            "ticks": ""
           },
           "bgcolor": "#E5ECF6",
           "radialaxis": {
            "gridcolor": "white",
            "linecolor": "white",
            "ticks": ""
           }
          },
          "scene": {
           "xaxis": {
            "backgroundcolor": "#E5ECF6",
            "gridcolor": "white",
            "gridwidth": 2,
            "linecolor": "white",
            "showbackground": true,
            "ticks": "",
            "zerolinecolor": "white"
           },
           "yaxis": {
            "backgroundcolor": "#E5ECF6",
            "gridcolor": "white",
            "gridwidth": 2,
            "linecolor": "white",
            "showbackground": true,
            "ticks": "",
            "zerolinecolor": "white"
           },
           "zaxis": {
            "backgroundcolor": "#E5ECF6",
            "gridcolor": "white",
            "gridwidth": 2,
            "linecolor": "white",
            "showbackground": true,
            "ticks": "",
            "zerolinecolor": "white"
           }
          },
          "shapedefaults": {
           "line": {
            "color": "#2a3f5f"
           }
          },
          "ternary": {
           "aaxis": {
            "gridcolor": "white",
            "linecolor": "white",
            "ticks": ""
           },
           "baxis": {
            "gridcolor": "white",
            "linecolor": "white",
            "ticks": ""
           },
           "bgcolor": "#E5ECF6",
           "caxis": {
            "gridcolor": "white",
            "linecolor": "white",
            "ticks": ""
           }
          },
          "title": {
           "x": 0.05
          },
          "xaxis": {
           "automargin": true,
           "gridcolor": "white",
           "linecolor": "white",
           "ticks": "",
           "title": {
            "standoff": 15
           },
           "zerolinecolor": "white",
           "zerolinewidth": 2
          },
          "yaxis": {
           "automargin": true,
           "gridcolor": "white",
           "linecolor": "white",
           "ticks": "",
           "title": {
            "standoff": 15
           },
           "zerolinecolor": "white",
           "zerolinewidth": 2
          }
         }
        },
        "title": {
         "font": {
          "size": 16
         },
         "text": "<br>Interactive Graph Visualization"
        },
        "xaxis": {
         "showgrid": false,
         "zeroline": false
        },
        "yaxis": {
         "showgrid": false,
         "zeroline": false
        }
       }
      }
     },
     "metadata": {},
     "output_type": "display_data"
    }
   ],
   "source": [
    "def get_path_connected(connected_components, graph):\n",
    "    component_color_map = {}\n",
    "    non_path_connected_components = []\n",
    "    # Define colors\n",
    "    red_color = 'red'\n",
    "    other_color = 'blue'  # You can replace 'blue' with any other color\n",
    "    \n",
    "    # Iterate through each connected component\n",
    "    for i, component in enumerate(connected_components):\n",
    "        if is_path_connected(component, graph):  # Check if the component is path-connected\n",
    "            color = red_color  # Color path-connected components red\n",
    "        else:\n",
    "            color = other_color  # Color other components with a different color\n",
    "            non_path_connected_components.append(component)\n",
    "        \n",
    "        for node in component:\n",
    "            component_color_map[node] = color\n",
    "    \n",
    "    return component_color_map,non_path_connected_components\n",
    "\n",
    "def is_path_connected(component, graph):\n",
    "    degree_one_nodes = [node for node in component if len(graph[node]) == 1]\n",
    "    if len(component) == 1:\n",
    "        return True\n",
    "    \n",
    "    if len(degree_one_nodes) < 2:\n",
    "        return False  \n",
    "    \n",
    "\n",
    "    visited = set()\n",
    "    \n",
    "    \n",
    "    start_node = degree_one_nodes[0]\n",
    "    \n",
    "    def dfs(node):\n",
    "        visited.add(node)\n",
    "        for neighbor in graph[node]:\n",
    "            if neighbor not in visited:\n",
    "                dfs(neighbor)\n",
    "    \n",
    "    dfs(start_node)\n",
    "    \n",
    "    \n",
    "    return all(node in visited for node in component)\n",
    "\n",
    "component_color_map,non_path_connected_components = get_path_connected(connected_components, G)\n",
    "\n",
    "create_plotly_graph_color(G, component_color_map)\n",
    "\n"
   ]
  },
  {
   "cell_type": "code",
   "execution_count": 57,
   "metadata": {},
   "outputs": [
    {
     "name": "stdout",
     "output_type": "stream",
     "text": [
      "Non-path-connected components: [{0, 1, 2, 3, 6, 7, 8, 11, 12, 13, 16, 17, 18}, {9, 19, 4, 14}]\n"
     ]
    }
   ],
   "source": [
    "print(\"Non-path-connected components:\", non_path_connected_components)"
   ]
  }
 ],
 "metadata": {
  "kernelspec": {
   "display_name": "base",
   "language": "python",
   "name": "python3"
  },
  "language_info": {
   "codemirror_mode": {
    "name": "ipython",
    "version": 3
   },
   "file_extension": ".py",
   "mimetype": "text/x-python",
   "name": "python",
   "nbconvert_exporter": "python",
   "pygments_lexer": "ipython3",
   "version": "3.12.4"
  }
 },
 "nbformat": 4,
 "nbformat_minor": 2
}
